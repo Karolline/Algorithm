{
 "cells": [
  {
   "cell_type": "code",
   "execution_count": 1,
   "metadata": {},
   "outputs": [
    {
     "name": "stdout",
     "output_type": "stream",
     "text": [
      "Collecting selenium\n",
      "  Downloading selenium-3.141.0-py2.py3-none-any.whl (904 kB)\n",
      "Requirement already satisfied: urllib3 in c:\\users\\ohey1\\anaconda3\\lib\\site-packages (from selenium) (1.25.9)\n",
      "Installing collected packages: selenium\n",
      "Successfully installed selenium-3.141.0\n"
     ]
    }
   ],
   "source": [
    "!pip install selenium"
   ]
  },
  {
   "cell_type": "code",
   "execution_count": 2,
   "metadata": {},
   "outputs": [],
   "source": [
    "from selenium import webdriver as wd \n",
    "driver = wd.Chrome(executable_path=\"chromedriver.exe\") "
   ]
  },
  {
   "cell_type": "code",
   "execution_count": 3,
   "metadata": {},
   "outputs": [],
   "source": [
    "import time\n",
    "import re\n",
    "import json\n",
    "import pandas as pd"
   ]
  },
  {
   "cell_type": "code",
   "execution_count": 25,
   "metadata": {},
   "outputs": [],
   "source": [
    "keyword=\"BBTI\"\n",
    "url = \"https://www.instagram.com/explore/tags/{}/\".format(keyword)\n",
    "\n",
    "first_img_css = \".eLAPa\"\n",
    "\n",
    "upload_ids = []\n",
    "\n",
    "date_times = []\n",
    "date_titles = []\n",
    "\n",
    "main_texts = []\n",
    "instagram_tags = []\n",
    "\n",
    "comments = []\n",
    "\n",
    "check_arrow = True\n",
    "count_extract = 0\n",
    "\n",
    "instagram_tags = []\n",
    "instagram_tag_dates = []"
   ]
  },
  {
   "cell_type": "code",
   "execution_count": 31,
   "metadata": {
    "scrolled": true
   },
   "outputs": [
    {
     "name": "stdout",
     "output_type": "stream",
     "text": [
      "1 None None None 시로집사님이 만드신 BBTI❤\n",
      "\n",
      "평소에 MBTI도 관심있고 재미로 많이 즐기는 편인데 토끼 BBTI라니! 이건 꼭 해야 해!\n",
      "\n",
      "결과는 땡그리는 도도토끼, 땡초는 이구역 인싸가 나왔다☺\n",
      "\n",
      "땡그리는 도도하지만 세상에서 제일 착한 토끼이다❤ 너의 도도한 모습이 언니는 너무 사랑스러워 땡그라💛\n",
      "\n",
      "땡초는 어린 나이답게 활발하고 온갖 사고란 사고는 다 치려고 드는 이구역 인싸😂 그리고 누나는 그런 너의 모습이 좋아❤\n",
      "\n",
      "시로집사님 덕분에 너무 재미있는 테스트를 해 보았어요😊🧡 이런 테스트가 더 많아졌으면 좋겠네요~ 흥해라흥!\n",
      "\n",
      ".\n",
      ".\n",
      "#토끼 #반려토끼 #토끼스타그램 #땡스타그램 #rabbit #bunny #bbti #토끼성격테스트\n",
      "error\n"
     ]
    }
   ],
   "source": [
    "# 해시태그 웹페이지 접속 및 로그인 윈도우 띄우기\n",
    "driver = wd.Chrome(executable_path=\"chromedriver.exe\") \n",
    "driver.get(url)\n",
    "time.sleep(5)\n",
    "\n",
    "open_login_window = driver.find_element_by_css_selector(first_img_css)\n",
    "open_login_window.click()\n",
    "\n",
    "time.sleep(5)\n",
    "\n",
    "# 로그인\n",
    "user_id = \"hyej2nnnn\"\n",
    "user_passwd = \"a1013b33\"\n",
    "\n",
    "id_input_tag = '#loginForm > div.Igw0E.IwRSH.eGOV_._4EzTm.kEKum > div:nth-child(1) > div > label > input'\n",
    "pw_input_tag = '#loginForm > div.Igw0E.IwRSH.eGOV_._4EzTm.kEKum > div:nth-child(2) > div > label > input'\n",
    "id_input_form = driver.find_element_by_css_selector(id_input_tag)\n",
    "pw_input_form = driver.find_element_by_css_selector(pw_input_tag)\n",
    "\n",
    "id_input_form.send_keys(user_id)\n",
    "pw_input_form.send_keys(user_passwd)\n",
    "\n",
    "time.sleep(5)\n",
    "\n",
    "login_btn_selector = '#loginForm > div.Igw0E.IwRSH.eGOV_._4EzTm.kEKum > div:nth-child(3)'\n",
    "login_btn = driver.find_element_by_css_selector(login_btn_selector)\n",
    "login_btn.click()\n",
    "\n",
    "time.sleep(5)\n",
    "confirm_btn = driver.find_element_by_css_selector('#react-root > section > main > div > div > div > div > button')\n",
    "confirm_btn.click()\n",
    "\n",
    "\n",
    "# 첫번째 게시물\n",
    "open_login_window = driver.find_element_by_css_selector(first_img_css)\n",
    "open_login_window.click()\n",
    "\n",
    "check_arrow = True\n",
    "while True:\n",
    "    if check_arrow == False:\n",
    "        break\n",
    "        \n",
    "    try:\n",
    "        upload_id_object = driver.find_element_by_css_selector('body > div._2dDPU.CkGkG > div.zZYga > div > article > header > div.o-MQd.z8cbW > div.RqtMr > div > span > a')\n",
    "        upload_id = upload_id_object.text\n",
    "    except:\n",
    "        upload_id = None\n",
    "        \n",
    "    try:\n",
    "        date_object = driver.find_element_by_css_selector('body > div._2dDPU.CkGkG > div.zZYga > div > article > div.eo2As > div.EtaWk > ul > div > li > div > div > div.C4VMK > div > div > time')\n",
    "        date_time = date_object.get_attribute(\"datetime\")\n",
    "        date_title = date_object.get_attribute(\"title\")\n",
    "    except:\n",
    "        date_time = None\n",
    "        date_title = None\n",
    "        \n",
    "    try:\n",
    "        main_text_object = driver.find_element_by_css_selector('body > div._2dDPU.CkGkG > div.zZYga > div > article > div.eo2As > div.EtaWk > ul > div > li > div > div > div.C4VMK > span')\n",
    "        main_text = main_text_object.text\n",
    "    except:\n",
    "        main_text = None\n",
    "        \n",
    "    try:\n",
    "        data = driver.find_element_by_css_selector('.xil3i')\n",
    "        tag_raw = data.text\n",
    "        tags = re.findall('#[A-Za-z0-9가-힣]+', tag_raw)\n",
    "        tag = ''.join(tags).replace(\"#\",\" \") # \"#\" 제거\n",
    "        \n",
    "        tag_data = tag.split()\n",
    "        \n",
    "        for tag_one in tag_data:\n",
    "            instagram_tags.append(tag_one)\n",
    "            \n",
    "    except:\n",
    "        continue\n",
    "        \n",
    "    \n",
    "    upload_ids.append(upload_id)\n",
    "    date_times.append(date_time)\n",
    "    date_titles.append(date_title)\n",
    "    main_texts.append(main_text)\n",
    "    print(count_extract, upload_id, date_time, date_title, main_text)\n",
    "    \n",
    "    next_arrow_btn_css = ' ._65Bje.coreSpriteRightPaginationArrow'\n",
    "    \n",
    "    try:\n",
    "        WebDriverWait(driver, 100).until(EC.presence_of_element_located((By.CSS_SELECTOR, next_arrow_btn_css)))\n",
    "        driver.find_element_by_css_slector(next_arrow_btn_css).click()\n",
    "    except:\n",
    "        print(\"error\")\n",
    "        check_arrow = False\n",
    "        \n",
    "    count_extract += 1"
   ]
  },
  {
   "cell_type": "code",
   "execution_count": 30,
   "metadata": {},
   "outputs": [
    {
     "data": {
      "text/plain": [
       "False"
      ]
     },
     "execution_count": 30,
     "metadata": {},
     "output_type": "execute_result"
    }
   ],
   "source": [
    "check_arrow"
   ]
  }
 ],
 "metadata": {
  "kernelspec": {
   "display_name": "Python 3",
   "language": "python",
   "name": "python3"
  },
  "language_info": {
   "codemirror_mode": {
    "name": "ipython",
    "version": 3
   },
   "file_extension": ".py",
   "mimetype": "text/x-python",
   "name": "python",
   "nbconvert_exporter": "python",
   "pygments_lexer": "ipython3",
   "version": "3.8.3"
  }
 },
 "nbformat": 4,
 "nbformat_minor": 4
}
